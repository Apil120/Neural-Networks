{
 "cells": [
  {
   "cell_type": "markdown",
   "metadata": {},
   "source": [
    "# Recurrent Neural Networks\n",
    "---"
   ]
  },
  {
   "cell_type": "markdown",
   "metadata": {},
   "source": [
    "Wikipedia defines [RNNs](https://en.wikipedia.org/wiki/Recurrent_neural_network) as 'A class of artificial neural network commonly used for sequential data processing.' Neural Networks like CNNs work well for image processing and similar tasks. However they cannot retain information in a sequential matter, to solve this we need something that can store information in a long term, that is where models like RNNs and Transformers come into play."
   ]
  },
  {
   "cell_type": "markdown",
   "metadata": {},
   "source": [
    "As per the name states, the major part of an RNN is the `R` (Recurrent) block, "
   ]
  }
 ],
 "metadata": {
  "kernelspec": {
   "display_name": "venv",
   "language": "python",
   "name": "python3"
  },
  "language_info": {
   "name": "python",
   "version": "3.12.7"
  }
 },
 "nbformat": 4,
 "nbformat_minor": 2
}
